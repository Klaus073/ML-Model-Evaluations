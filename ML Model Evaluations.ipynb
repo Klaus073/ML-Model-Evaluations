{
 "cells": [
  {
   "cell_type": "code",
   "execution_count": 1,
   "id": "668b6e46",
   "metadata": {},
   "outputs": [],
   "source": [
    "import numpy as np\n",
    "import matplotlib.pyplot as plt\n",
    "import pandas as pd\n",
    "\n",
    "\n",
    "from sklearn.model_selection import train_test_split\n",
    "from sklearn.feature_extraction.text import TfidfVectorizer\n",
    "from sklearn.metrics import accuracy_score, precision_score, recall_score, f1_score, confusion_matrix, roc_auc_score\n",
    "\n",
    "from sklearn.linear_model import LogisticRegression\n",
    "from sklearn.linear_model import LinearRegression\n",
    "from sklearn.neighbors import KNeighborsClassifier \n",
    "from sklearn.svm import SVC\n",
    "from sklearn.naive_bayes import GaussianNB\n",
    "from sklearn.tree import DecisionTreeClassifier\n",
    "from sklearn.ensemble import RandomForestClassifier\n",
    "\n",
    "\n",
    "from lightgbm import LGBMClassifier\n",
    "import xgboost as xgb\n",
    "from catboost import CatBoostClassifier\n",
    "from sklearn.ensemble import AdaBoostClassifier"
   ]
  },
  {
   "cell_type": "code",
   "execution_count": 2,
   "id": "fa44ceed",
   "metadata": {},
   "outputs": [],
   "source": [
    "df1 = pd.read_csv(\"encoded_emails.csv\")"
   ]
  },
  {
   "cell_type": "code",
   "execution_count": 3,
   "id": "88c28a8d",
   "metadata": {},
   "outputs": [],
   "source": [
    "X = df1[\"Message\"]\n",
    "y = df1[\"Category\"]"
   ]
  },
  {
   "cell_type": "code",
   "execution_count": 4,
   "id": "401929d9",
   "metadata": {},
   "outputs": [],
   "source": [
    "vectorizer = TfidfVectorizer()\n",
    "X = vectorizer.fit_transform(X)"
   ]
  },
  {
   "cell_type": "code",
   "execution_count": 5,
   "id": "cdf72188",
   "metadata": {},
   "outputs": [],
   "source": [
    "X_train, X_test, y_train, y_test = train_test_split(X, y, test_size=0.3, random_state=42)"
   ]
  },
  {
   "cell_type": "code",
   "execution_count": 6,
   "id": "f5ff9612",
   "metadata": {},
   "outputs": [],
   "source": [
    "def model_evaluations(classifier, y_test, y_pred, model_name):\n",
    "    accuracy = accuracy_score(y_test, y_pred)\n",
    "    precision = precision_score(y_test, y_pred)\n",
    "    recall = recall_score(y_test, y_pred)\n",
    "    f1 = f1_score(y_test, y_pred)\n",
    "    cm = confusion_matrix(y_test, y_pred)\n",
    "    # Check if 'predict_proba' method is available for the classifier\n",
    "    if hasattr(classifier, \"predict_proba\"):\n",
    "        # Use predicted probabilities for ROC AUC if available\n",
    "        roc_auc = roc_auc_score(y_test, classifier.predict_proba(X_test.toarray())[:, 1])\n",
    "    else:\n",
    "        \n",
    "        roc_auc = None\n",
    "    \n",
    "    \n",
    "    # Print the calculated metrics\n",
    "    print(f\" => Evaluations of {model_name} :\")\n",
    "    print(\"\")\n",
    "    print(\"Accuracy                :\", accuracy)\n",
    "    print(\"Precision               :\", precision)\n",
    "    print(\"Recall                  :\", recall)\n",
    "    print(\"F1-Score                :\", f1)\n",
    "    print(\"ROC AUC                 :\", roc_auc)\n",
    "    print(\"Confusion Matrix\")\n",
    "    print(cm)\n",
    "    print(\"\")\n",
    "    print(\"____________________________________________\")\n",
    "    print(\"\")\n",
    "    \n",
    "    "
   ]
  },
  {
   "cell_type": "markdown",
   "id": "189c067f",
   "metadata": {},
   "source": [
    "# Calssification Model Evaluations"
   ]
  },
  {
   "cell_type": "code",
   "execution_count": 7,
   "id": "8d094f2f",
   "metadata": {},
   "outputs": [
    {
     "name": "stdout",
     "output_type": "stream",
     "text": [
      " => Evaluations of Logistic Regression :\n",
      "\n",
      "Accuracy                : 0.9635167464114832\n",
      "Precision               : 0.9880239520958084\n",
      "Recall                  : 0.7366071428571429\n",
      "F1-Score                : 0.843989769820972\n",
      "ROC AUC                 : 0.989400404498816\n",
      "Confusion Matrix\n",
      "[[1446    2]\n",
      " [  59  165]]\n",
      "\n",
      "____________________________________________\n",
      "\n",
      " => Evaluations of SVM :\n",
      "\n",
      "Accuracy                : 0.9808612440191388\n",
      "Precision               : 1.0\n",
      "Recall                  : 0.8571428571428571\n",
      "F1-Score                : 0.923076923076923\n",
      "ROC AUC                 : None\n",
      "Confusion Matrix\n",
      "[[1448    0]\n",
      " [  32  192]]\n",
      "\n",
      "____________________________________________\n",
      "\n",
      " => Evaluations of Naive Bayes :\n",
      "\n",
      "Accuracy                : 0.9102870813397129\n",
      "Precision               : 0.6094674556213018\n",
      "Recall                  : 0.9196428571428571\n",
      "F1-Score                : 0.7330960854092526\n",
      "ROC AUC                 : 0.914241318074191\n",
      "Confusion Matrix\n",
      "[[1316  132]\n",
      " [  18  206]]\n",
      "\n",
      "____________________________________________\n",
      "\n",
      " => Evaluations of Decision Tree :\n",
      "\n",
      "Accuracy                : 0.9677033492822966\n",
      "Precision               : 0.8863636363636364\n",
      "Recall                  : 0.8705357142857143\n",
      "F1-Score                : 0.8783783783783784\n",
      "ROC AUC                 : 0.9266352604577743\n",
      "Confusion Matrix\n",
      "[[1423   25]\n",
      " [  29  195]]\n",
      "\n",
      "____________________________________________\n",
      "\n",
      " => Evaluations of Random Forest :\n",
      "\n",
      "Accuracy                : 0.9784688995215312\n",
      "Precision               : 1.0\n",
      "Recall                  : 0.8392857142857143\n",
      "F1-Score                : 0.9126213592233009\n",
      "ROC AUC                 : 0.996923095895817\n",
      "Confusion Matrix\n",
      "[[1448    0]\n",
      " [  36  188]]\n",
      "\n",
      "____________________________________________\n",
      "\n",
      " => Evaluations of K-Nearest Neighbours (k=3) :\n",
      "\n",
      "Accuracy                : 0.9222488038277512\n",
      "Precision               : 1.0\n",
      "Recall                  : 0.41964285714285715\n",
      "F1-Score                : 0.5911949685534591\n",
      "ROC AUC                 : 0.8078353147198106\n",
      "Confusion Matrix\n",
      "[[1448    0]\n",
      " [ 130   94]]\n",
      "\n",
      "____________________________________________\n",
      "\n"
     ]
    }
   ],
   "source": [
    "#Logistic Regression\n",
    "model = LogisticRegression()\n",
    "model.fit(X_train , y_train)\n",
    "y_pred = model.predict(X_test)\n",
    "\n",
    "model_evaluations(model,y_test,y_pred,\"Logistic Regression\")\n",
    "#Support Vector Machine(SVM)\n",
    "model = SVC()\n",
    "model.fit(X_train , y_train)\n",
    "y_pred = model.predict(X_test)\n",
    "\n",
    "model_evaluations(model,y_test,y_pred,\"SVM\")\n",
    "#Naive Bayes\n",
    "model = GaussianNB()\n",
    "model.fit(X_train.toarray() , y_train)\n",
    "y_pred = model.predict(X_test.toarray())\n",
    "\n",
    "model_evaluations(model,y_test,y_pred,\"Naive Bayes\")\n",
    "#Decision Tree Classifier\n",
    "model = DecisionTreeClassifier()\n",
    "model.fit(X_train.toarray() , y_train)\n",
    "y_pred = model.predict(X_test.toarray())\n",
    "\n",
    "model_evaluations(model,y_test,y_pred,\"Decision Tree\")\n",
    "#Random Forest \n",
    "model = RandomForestClassifier()\n",
    "model.fit(X_train.toarray() , y_train)\n",
    "y_pred = model.predict(X_test.toarray())\n",
    "\n",
    "model_evaluations(model,y_test,y_pred,\"Random Forest\")\n",
    "#K-Nearest Neighbour (KNN at k=3)\n",
    "model = KNeighborsClassifier(n_neighbors=3)\n",
    "model.fit(X_train.toarray() , y_train)\n",
    "y_pred = model.predict(X_test.toarray())\n",
    "\n",
    "model_evaluations(model,y_test,y_pred,\"K-Nearest Neighbours (k=3)\")\n"
   ]
  },
  {
   "cell_type": "markdown",
   "id": "13f8e62b",
   "metadata": {},
   "source": [
    "# Boosting Model Evaluations"
   ]
  },
  {
   "cell_type": "code",
   "execution_count": 8,
   "id": "fb5f426e",
   "metadata": {},
   "outputs": [
    {
     "name": "stderr",
     "output_type": "stream",
     "text": [
      "C:\\ProgramData\\anaconda3\\Lib\\site-packages\\sklearn\\ensemble\\_base.py:166: FutureWarning: `base_estimator` was renamed to `estimator` in version 1.2 and will be removed in 1.4.\n",
      "  warnings.warn(\n"
     ]
    },
    {
     "name": "stdout",
     "output_type": "stream",
     "text": [
      " => Evaluations of Ada Boost :\n",
      "\n",
      "Accuracy                : 0.979066985645933\n",
      "Precision               : 0.9655172413793104\n",
      "Recall                  : 0.875\n",
      "F1-Score                : 0.9180327868852458\n",
      "ROC AUC                 : 0.9820642388516179\n",
      "Confusion Matrix\n",
      "[[1441    7]\n",
      " [  28  196]]\n",
      "\n",
      "____________________________________________\n",
      "\n",
      " => Evaluations of LightGBM :\n",
      "\n",
      "Accuracy                : 0.9832535885167464\n",
      "Precision               : 0.9711538461538461\n",
      "Recall                  : 0.9017857142857143\n",
      "F1-Score                : 0.9351851851851851\n",
      "ROC AUC                 : 0.9877139650749804\n",
      "Confusion Matrix\n",
      "[[1442    6]\n",
      " [  22  202]]\n",
      "\n",
      "____________________________________________\n",
      "\n",
      " => Evaluations of XGBoost :\n",
      "\n",
      "Accuracy                : 0.9832535885167464\n",
      "Precision               : 0.9803921568627451\n",
      "Recall                  : 0.8928571428571429\n",
      "F1-Score                : 0.9345794392523364\n",
      "ROC AUC                 : 0.571747669198895\n",
      "Confusion Matrix\n",
      "[[1444    4]\n",
      " [  24  200]]\n",
      "\n",
      "____________________________________________\n",
      "\n",
      " => Evaluations of CatBoost :\n",
      "\n",
      "Accuracy                : 0.9772727272727273\n",
      "Precision               : 0.9894736842105263\n",
      "Recall                  : 0.8392857142857143\n",
      "F1-Score                : 0.9082125603864734\n",
      "ROC AUC                 : 0.9891013466850829\n",
      "Confusion Matrix\n",
      "[[1446    2]\n",
      " [  36  188]]\n",
      "\n",
      "____________________________________________\n",
      "\n"
     ]
    }
   ],
   "source": [
    "#Ada Boost\n",
    "weak_learner = DecisionTreeClassifier(max_depth=1)\n",
    "model = AdaBoostClassifier(base_estimator=weak_learner, n_estimators=50, random_state=42)\n",
    "model.fit(X_train, y_train)\n",
    "y_pred = model.predict(X_test.toarray())\n",
    "\n",
    "model_evaluations(model,y_test,y_pred,\"Ada Boost\")\n",
    "\n",
    "\n",
    "# Create an instance of the LGBMClassifier\n",
    "model = LGBMClassifier(n_estimators=100, random_state=42, verbosity=-1)  # Set verbosity to -1 to suppress warning\n",
    "model.fit(X_train, y_train)\n",
    "y_pred = model.predict(X_test)\n",
    "\n",
    "model_evaluations(model,y_test,y_pred,\"LightGBM\")\n",
    "\n",
    "# XGBoost classifier\n",
    "model = xgb.XGBClassifier(n_estimators=100, random_state=42 , verbosity=0)\n",
    "model.fit(X_train, y_train)\n",
    "y_pred = model.predict(X_test)\n",
    "\n",
    "model_evaluations(model,y_test,y_pred,\"XGBoost\")\n",
    "\n",
    "# CatBoost classifier\n",
    "model = CatBoostClassifier(iterations=100, random_state=42 , verbose=0)\n",
    "model.fit(X_train, y_train)\n",
    "y_pred = model.predict(X_test)\n",
    "\n",
    "model_evaluations(model,y_test,y_pred,\"CatBoost\")"
   ]
  },
  {
   "cell_type": "code",
   "execution_count": 10,
   "id": "ef318fb9",
   "metadata": {},
   "outputs": [],
   "source": [
    "from keras.models import Sequential\n",
    "from keras.layers import Dense"
   ]
  },
  {
   "cell_type": "code",
   "execution_count": 11,
   "id": "0399f0a6",
   "metadata": {},
   "outputs": [],
   "source": [
    "# Determine the input shape based on the training data\n",
    "input_shape = X_train.shape[1:]"
   ]
  },
  {
   "cell_type": "code",
   "execution_count": 12,
   "id": "2f5dfe42",
   "metadata": {},
   "outputs": [],
   "source": [
    "model = Sequential()"
   ]
  },
  {
   "cell_type": "markdown",
   "id": "cd415dc6",
   "metadata": {},
   "source": [
    "# Multi Layer Perceptron Evaluations"
   ]
  },
  {
   "cell_type": "code",
   "execution_count": 13,
   "id": "8ab269a2",
   "metadata": {},
   "outputs": [
    {
     "name": "stdout",
     "output_type": "stream",
     "text": [
      "Epoch 1/10\n",
      "122/122 [==============================] - 1s 3ms/step - loss: 0.5078 - accuracy: 0.8574\n",
      "Epoch 2/10\n",
      "122/122 [==============================] - 0s 3ms/step - loss: 0.1032 - accuracy: 0.9677\n",
      "Epoch 3/10\n",
      "122/122 [==============================] - 0s 3ms/step - loss: 0.0230 - accuracy: 0.9938\n",
      "Epoch 4/10\n",
      "122/122 [==============================] - 0s 4ms/step - loss: 0.0091 - accuracy: 0.9979\n",
      "Epoch 5/10\n",
      "122/122 [==============================] - 0s 3ms/step - loss: 0.0040 - accuracy: 0.9992\n",
      "Epoch 6/10\n",
      "122/122 [==============================] - 0s 3ms/step - loss: 0.0017 - accuracy: 1.0000\n",
      "Epoch 7/10\n",
      "122/122 [==============================] - 0s 3ms/step - loss: 0.0010 - accuracy: 1.0000\n",
      "Epoch 8/10\n",
      "122/122 [==============================] - 0s 3ms/step - loss: 6.9721e-04 - accuracy: 1.0000\n",
      "Epoch 9/10\n",
      "122/122 [==============================] - 0s 3ms/step - loss: 5.0215e-04 - accuracy: 1.0000\n",
      "Epoch 10/10\n",
      "122/122 [==============================] - 0s 3ms/step - loss: 3.8162e-04 - accuracy: 1.0000\n",
      "53/53 [==============================] - 0s 1ms/step\n"
     ]
    }
   ],
   "source": [
    "model.add(Dense(10, input_shape=input_shape, activation='relu'))\n",
    "model.add(Dense(20,  activation='relu'))\n",
    "model.add(Dense(20,  activation='relu'))\n",
    "model.add(Dense(1, activation='sigmoid'))\n",
    "\n",
    "model.compile(loss = 'binary_crossentropy' , optimizer='adam' , metrics = ['accuracy'])\n",
    "show = model.fit(X_train.toarray() , y_train , epochs=10 , batch_size = 32)\n",
    "y_pred = model.predict(X_test)"
   ]
  },
  {
   "cell_type": "code",
   "execution_count": 14,
   "id": "aa2c3e10",
   "metadata": {},
   "outputs": [
    {
     "data": {
      "image/png": "[encoded data removed]",
      "text/plain": [
       "<Figure size 1000x500 with 2 Axes>"
      ]
     },
     "metadata": {},
     "output_type": "display_data"
    }
   ],
   "source": [
    "# Plot the accuracy and loss graphs\n",
    "plt.figure(figsize=(10, 5))\n",
    "\n",
    "# Accuracy graph\n",
    "plt.subplot(1, 2, 1)\n",
    "plt.plot(show.history['accuracy'], label='Training Accuracy')\n",
    "# plt.plot(show.history['val_accuracy'], label='Validation Accuracy')\n",
    "plt.xlabel('Epoch')\n",
    "plt.ylabel('Accuracy')\n",
    "plt.legend()\n",
    "\n",
    "# Loss graph\n",
    "plt.subplot(1, 2, 2)\n",
    "plt.plot(show.history['loss'], label='Training Loss')\n",
    "# plt.plot(show.history['val_loss'], label='Validation Loss')\n",
    "plt.xlabel('Epoch')\n",
    "plt.ylabel('Loss')\n",
    "plt.legend()\n",
    "\n",
    "plt.tight_layout()\n",
    "plt.show()"
   ]
  },
  {
   "cell_type": "code",
   "execution_count": 18,
   "id": "2b280bda",
   "metadata": {},
   "outputs": [],
   "source": [
    "from sklearn.metrics import mean_squared_error, mean_absolute_error, r2_score"
   ]
  },
  {
   "cell_type": "code",
   "execution_count": 19,
   "id": "ce99d036",
   "metadata": {},
   "outputs": [],
   "source": [
    "data = pd.read_csv('house_prices_dataset.csv')"
   ]
  },
  {
   "cell_type": "markdown",
   "id": "daeb0bff",
   "metadata": {},
   "source": [
    "# Regression Model Evaluations"
   ]
  },
  {
   "cell_type": "code",
   "execution_count": 20,
   "id": "2f1c9332",
   "metadata": {},
   "outputs": [
    {
     "name": "stdout",
     "output_type": "stream",
     "text": [
      "RMS for Linear Regression                : 46109.875835319915\n",
      "MAE for Linear Regression                : 37779.32214754268\n",
      "R2 for Linear Regression                 : 0.015875408603874486\n"
     ]
    }
   ],
   "source": [
    "\n",
    "\n",
    "# Separate features and target variable\n",
    "X = data.drop(columns=[\"SalePrice\"])  # Features\n",
    "y = data[\"SalePrice\"]  # Target variable (sale price)\n",
    "\n",
    "# Split the data into training and test sets\n",
    "X_train, X_test, y_train, y_test = train_test_split(X, y, test_size=0.2, random_state=42)\n",
    "\n",
    "# Train a regression model (e.g., Linear Regression, Random Forest, etc.)\n",
    "regressor = LinearRegression()\n",
    "regressor.fit(X_train, y_train)\n",
    "\n",
    "# Make predictions on the test set\n",
    "y_pred = regressor.predict(X_test)\n",
    "\n",
    "# Calculate regression metrics\n",
    "rmse = mean_squared_error(y_test, y_pred, squared=False)\n",
    "mae = mean_absolute_error(y_test, y_pred)\n",
    "r2 = r2_score(y_test, y_pred)\n",
    "\n",
    "# Print the calculated metrics\n",
    "print(\"RMS for Linear Regression                :\", rmse)\n",
    "print(\"MAE for Linear Regression                :\", mae)\n",
    "print(\"R2 for Linear Regression                 :\", r2)\n"
   ]
  },
  {
   "cell_type": "code",
   "execution_count": null,
   "id": "7f26d1e5",
   "metadata": {},
   "outputs": [],
   "source": []
  }
 ],
 "metadata": {
  "kernelspec": {
   "display_name": "Python 3 (ipykernel)",
   "language": "python",
   "name": "python3"
  },
  "language_info": {
   "codemirror_mode": {
    "name": "ipython",
    "version": 3
   },
   "file_extension": ".py",
   "mimetype": "text/x-python",
   "name": "python",
   "nbconvert_exporter": "python",
   "pygments_lexer": "ipython3",
   "version": "3.11.3"
  }
 },
 "nbformat": 4,
 "nbformat_minor": 5
}
